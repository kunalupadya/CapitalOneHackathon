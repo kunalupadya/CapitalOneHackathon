{
 "cells": [
  {
   "cell_type": "code",
   "execution_count": 106,
   "metadata": {
    "collapsed": true
   },
   "outputs": [],
   "source": [
    "import pandas as pd\n",
    "import numpy as np\n",
    "\n",
    "class Canada():\n",
    "    def __init__(self, path = None, n = 15):\n",
    "        self.df = self.read(path)\n",
    "        self.n = n\n",
    "    \n",
    "    def read(self, path):\n",
    "        df = pd.read_excel(path)\n",
    "        new_names = df.iloc[0]\n",
    "        for index, name in enumerate(df.columns):\n",
    "            df.rename(columns = {name: new_names[index]}, inplace=True) #renaming the columns\n",
    "        df.drop(0, inplace = True) \n",
    "        df.dropna(inplace = True)\n",
    "        df[\"Estimated average cost\"] = df[\"Estimated average cost\"].apply(lambda x: float(x))\n",
    "        return df\n",
    "    \n",
    "    def search(self, operation_or_condition = None, age = 40, budget = np.math.inf):\n",
    "        indices = []\n",
    "        for index, row in self.df[\"Case Mix Group (description)\"].items():\n",
    "            if operation_or_condition not in row:\n",
    "                indices.append(int(index))\n",
    "        whole_operation = self.df.drop(indices) # finding the correct operation\n",
    "        age_sub_group = \"\"\n",
    "        if age in range(1,8):\n",
    "            age_sub_group += \"1–7 years (pediatric)\"\n",
    "        elif age in range(18,60):\n",
    "            age_sub_group += \"18–59 years (adult)\"\n",
    "        else:\n",
    "            age_sub_group += \"60–79 years (adult)\"\n",
    "        flight_cost = 0\n",
    "        budget += flight_cost\n",
    "        operation = whole_operation[whole_operation[\"Age group\"] == age_sub_group]\n",
    "        operation = operation[operation[\"Estimated average cost\"] <= budget]\n",
    "        smallest = operation.rename(columns = {\"Estimated average cost\": \"Cost\", \"Jurisdiction\": \"Location\", \"Case Mix Group (description)\":\"Description\"})\n",
    "        if self.n >= smallest[\"Cost\"].count():\n",
    "            return smallest\n",
    "        return smallest.nsmallest(self.n, \"Cost\")[[\"Description\", \"Cost\", \"Location\"]]\n",
    "\n",
    "class GreatBritain():\n",
    "    def __init__(self, path = None, n = 15):\n",
    "        self.df = self.read(path)\n",
    "        self.n = n\n",
    "    \n",
    "    def read(self, path):\n",
    "        df = pd.read_excel(path)\n",
    "        df[\"Unit Cost \"] = df[\"Unit Cost \"].apply(lambda x: float(x) * 1.27)\n",
    "        df.dropna(inplace = True)\n",
    "        return df\n",
    "    \n",
    "    def search(self, operation_or_condition = None, budget = np.math.inf):\n",
    "        indices = []\n",
    "        for index, row in self.df[\"Currency Description\"].items():\n",
    "            if operation_or_condition not in row:\n",
    "                indices.append(int(index))\n",
    "        whole_operation = self.df.drop(indices) # finding the correct operation\n",
    "        operation = whole_operation[whole_operation[\"Unit Cost \"] <= budget]\n",
    "        operation = operation.rename(columns = {\"Unit Cost \": \"Cost\", \"Currency Description\":\"Description\"})\n",
    "        if self.n >= operation[\"Cost\"].count():\n",
    "            return operation\n",
    "        return operation.nsmallest(self.n, \"Cost\")[[\"Description\", \"Cost\"]]\n",
    "\n",
    "class Generic():\n",
    "    def __init__(self, path, n):\n",
    "        self.df = self.read(path)\n",
    "        self.n = n\n",
    "        self.path = path\n",
    "    def read(self, path):\n",
    "        df = pd.read_excel(path)\n",
    "        df.dropna()\n",
    "        return df\n",
    "    \n",
    "    def search(self, operation_or_condition, budget = np.math.inf):\n",
    "        self.df[\"Cost\"] = self.df[\"Cost\"].apply(lambda x : float(\"\".join(\"\".join(str(x).split(\",\")).split(\"$\"))))\n",
    "        operation = self.df[self.df[\"Cost\"] <= budget]\n",
    "        indices = []\n",
    "        for index, row in operation[\"Description\"].items():\n",
    "            if operation_or_condition.lower() not in row.lower():\n",
    "                indices.append(int(index))\n",
    "        operation.drop(indices, inplace = True)\n",
    "        if self.n >= operation[\"Cost\"].count():\n",
    "            return operation\n",
    "        return operation.nsmallest(self.n, \"Cost\")\n",
    "        \n",
    "        \n",
    "class KB():\n",
    "    def __init__(self, paths, n):\n",
    "        self.canada = Canada(paths[0], n)\n",
    "        self.gb = GreatBritain(paths[1], n)\n",
    "        self.generics = [Generic(path, n) for path in paths[2:]]\n",
    "    def search(self, operation_or_condition = None, age = 40, urgency_flight_data = None, sliders = [3,3,3], budget = np.math.inf):\n",
    "        results = []\n",
    "        results_canada = self.canada.search(operation_or_condition, age, budget)\n",
    "        results_gb = self.gb.search(operation_or_condition, budget)\n",
    "        results_generics = [generic.search(operation_or_condition, budget) for generic in self.generics]\n",
    "        cities = [\"Greater London\", \"Buckinghamshire\", \"Cambridgeshire\", \"Durham\", \"East Riding of Yorkshire\", \"East Sussex \",\n",
    "                    \"Essex\", \"Gloucestershire\", \"Greater Manchester\",\"Halton\", \"Hampshire\", \"Hartlepool\", \n",
    "                 \"Herefordshire\", \"Oxfordshire\", \"Rutland\", \"Shropshire\", \"Slough\", \"Somerset\"]\n",
    "        for index in results_canada.index:\n",
    "            results.append({\"Location\": f\"{results_canada['Location'][index]}, Canada\", \"Description\": results_canada[\"Description\"][index], \"Cost\": round(results_canada[\"Cost\"][index],0)})\n",
    "        ctr = 0\n",
    "        for index in results_gb.index:\n",
    "            results.append({\"Location\": f\"{cities[ctr]}, England\", \"Description\": results_gb[\"Description\"][index], \"Cost\": round(results_gb[\"Cost\"][index],0)})\n",
    "            ctr += 1\n",
    "        for result in results_generics:\n",
    "            for index in result.index:\n",
    "                results.append({\"Location\": result[\"Location\"][index], \"Description\": result[\"Description\"][index], \"Cost\": round(result[\"Cost\"][index],0)})\n",
    "        return results"
   ]
  },
  {
   "cell_type": "code",
   "execution_count": 111,
   "metadata": {},
   "outputs": [],
   "source": [
    "paths = [\"pce_results_2018_en.xlsx\", \"uk data.xlsx\", \"cleanhospitals/AtlantiCare.xlsx\", \n",
    "         \"cleanhospitals/AuroraHealth.xlsx\", \"cleanhospitals/DukeHospital.xlsx\", \n",
    "         \"cleanhospitals/MarthasVinyard.xlsx\", \"cleanhospitals/MountSinai.xlsx\", \n",
    "         \"cleanhospitals/OrlandoHealth.xlsx\"]\n",
    "kb = KB(paths, 5)"
   ]
  },
  {
   "cell_type": "code",
   "execution_count": 113,
   "metadata": {},
   "outputs": [
    {
     "name": "stderr",
     "output_type": "stream",
     "text": [
      "/Users/davidterpay/miniconda3/lib/python3.6/site-packages/ipykernel_launcher.py:81: SettingWithCopyWarning: \n",
      "A value is trying to be set on a copy of a slice from a DataFrame\n",
      "\n",
      "See the caveats in the documentation: http://pandas.pydata.org/pandas-docs/stable/indexing.html#indexing-view-versus-copy\n"
     ]
    },
    {
     "data": {
      "text/plain": [
       "35"
      ]
     },
     "execution_count": 113,
     "metadata": {},
     "output_type": "execute_result"
    }
   ],
   "source": [
    "kb.search(\"Hepatitis\")"
   ]
  },
  {
   "cell_type": "code",
   "execution_count": null,
   "metadata": {
    "collapsed": true
   },
   "outputs": [],
   "source": []
  }
 ],
 "metadata": {
  "kernelspec": {
   "display_name": "Python 3",
   "language": "python",
   "name": "python3"
  },
  "language_info": {
   "codemirror_mode": {
    "name": "ipython",
    "version": 3
   },
   "file_extension": ".py",
   "mimetype": "text/x-python",
   "name": "python",
   "nbconvert_exporter": "python",
   "pygments_lexer": "ipython3",
   "version": "3.6.8"
  }
 },
 "nbformat": 4,
 "nbformat_minor": 2
}
